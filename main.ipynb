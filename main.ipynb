{
 "cells": [
  {
   "cell_type": "code",
   "execution_count": 66,
   "metadata": {
    "collapsed": true
   },
   "outputs": [],
   "source": [
    "import csv\n",
    "from sklearn.metrics.pairwise import cosine_similarity\n",
    "from sklearn.pipeline import FeatureUnion, Pipeline\n",
    "from sklearn.feature_extraction.text import TfidfVectorizer"
   ]
  },
  {
   "cell_type": "code",
   "execution_count": 67,
   "metadata": {
    "collapsed": true
   },
   "outputs": [],
   "source": [
    "f = open('/home/vamsi/Downloads/Problem2_Dataset.txt', 'r')\n",
    "x = f.readlines()"
   ]
  },
  {
   "cell_type": "code",
   "execution_count": 101,
   "metadata": {
    "collapsed": false
   },
   "outputs": [],
   "source": [
    "newlist = [row.strip() for row in x]"
   ]
  },
  {
   "cell_type": "code",
   "execution_count": 103,
   "metadata": {
    "collapsed": false
   },
   "outputs": [],
   "source": [
    "# del(newlist[0])\n",
    "del(newlist[1000])"
   ]
  },
  {
   "cell_type": "code",
   "execution_count": 104,
   "metadata": {
    "collapsed": true
   },
   "outputs": [],
   "source": [
    "feature_generator = FeatureUnion(\n",
    "        transformer_list=[\n",
    "            ('tfidf', TfidfVectorizer(ngram_range=(1, 2), token_pattern=r'\\b\\w+\\b', \n",
    "                                                min_df=2, \n",
    "                                                lowercase=True, norm='l2', stop_words='english')),\n",
    "\n",
    "        ]\n",
    "    )"
   ]
  },
  {
   "cell_type": "code",
   "execution_count": 105,
   "metadata": {
    "collapsed": true
   },
   "outputs": [],
   "source": [
    "tfidf_matrix = feature_generator.fit_transform(newlist)"
   ]
  },
  {
   "cell_type": "code",
   "execution_count": 106,
   "metadata": {
    "collapsed": false
   },
   "outputs": [],
   "source": [
    "predicted = []\n",
    "for i in range(1000, 2000):\n",
    "    similariy = cosine_similarity(tfidf_matrix[i:(i+1)], tfidf_matrix[0:1000])[0]\n",
    "    v = similariy[0]\n",
    "    s = 0\n",
    "    for j in range(1, 1000):\n",
    "        if similariy[j] > v:\n",
    "            v = similariy[j]\n",
    "            s = j\n",
    "    predicted.append([s + 1])\n"
   ]
  },
  {
   "cell_type": "code",
   "execution_count": 63,
   "metadata": {
    "collapsed": false
   },
   "outputs": [],
   "source": [
    "with open('/home/vamsi/Downloads/Problem_1_submission/problem_2.csv','w') as final:\n",
    "    writer = csv.writer(final,delimiter=',')\n",
    "    writer.writerows(predicted)"
   ]
  }
 ],
 "metadata": {
  "anaconda-cloud": {},
  "kernelspec": {
   "display_name": "Python [conda root]",
   "language": "python",
   "name": "conda-root-py"
  },
  "language_info": {
   "codemirror_mode": {
    "name": "ipython",
    "version": 3
   },
   "file_extension": ".py",
   "mimetype": "text/x-python",
   "name": "python",
   "nbconvert_exporter": "python",
   "pygments_lexer": "ipython3",
   "version": "3.5.2"
  }
 },
 "nbformat": 4,
 "nbformat_minor": 1
}
